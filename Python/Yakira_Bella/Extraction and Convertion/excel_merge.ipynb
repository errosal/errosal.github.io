{
 "cells": [
  {
   "cell_type": "code",
   "execution_count": 4,
   "metadata": {},
   "outputs": [
    {
     "name": "stdout",
     "output_type": "stream",
     "text": [
      "Merged 2 files into 'Final_Dataset.xlsx'\n"
     ]
    }
   ],
   "source": [
    "import pandas as pd\n",
    "import os\n",
    "\n",
    "# Define the folder path\n",
    "folder_path = '/Users/er/Desktop/Yakira Bella Test/project/Products Dataset/Final Dataset'  # Change this to your actual folder path\n",
    "\n",
    "# Get a list of all Excel files in the folder\n",
    "excel_files = [f for f in os.listdir(folder_path) if f.endswith('.xlsx')]\n",
    "\n",
    "# Create an empty list to store dataframes\n",
    "dataframes = []\n",
    "\n",
    "# Loop through each file and read it\n",
    "for file in excel_files:\n",
    "    file_path = os.path.join(folder_path, file)\n",
    "    df = pd.read_excel(file_path)\n",
    "    df['Source File'] = file  # Optional: to track which file each row came from\n",
    "    dataframes.append(df)\n",
    "\n",
    "# Concatenate all dataframes\n",
    "merged_df = pd.concat(dataframes, ignore_index=True)\n",
    "\n",
    "# Save the merged dataframe to a new Excel file\n",
    "output_file = 'Final_Dataset.xlsx'\n",
    "merged_df.to_excel(output_file, index=False)\n",
    "\n",
    "print(f\"Merged {len(excel_files)} files into '{output_file}'\")"
   ]
  }
 ],
 "metadata": {
  "kernelspec": {
   "display_name": "DataTools",
   "language": "python",
   "name": "python3"
  },
  "language_info": {
   "codemirror_mode": {
    "name": "ipython",
    "version": 3
   },
   "file_extension": ".py",
   "mimetype": "text/x-python",
   "name": "python",
   "nbconvert_exporter": "python",
   "pygments_lexer": "ipython3",
   "version": "3.12.4"
  }
 },
 "nbformat": 4,
 "nbformat_minor": 2
}
