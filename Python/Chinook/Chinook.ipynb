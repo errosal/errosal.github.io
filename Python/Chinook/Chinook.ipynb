{
 "cells": [
  {
   "attachments": {},
   "cell_type": "markdown",
   "metadata": {},
   "source": [
    "# Answering Business Questions Using SQL\n",
    "\n",
    "## Introduction\n",
    "\n",
    "In this project, we're going to practice using our SQL skills to answer business questions.\n",
    "\n",
    "![diagram](https://s3.amazonaws.com/dq-content/191/chinook-schema.svg)"
   ]
  },
  {
   "cell_type": "code",
   "execution_count": 1,
   "metadata": {},
   "outputs": [],
   "source": [
    "%%capture\n",
    "%load_ext sql\n",
    "%sql sqlite:///chinook.db"
   ]
  },
  {
   "cell_type": "code",
   "execution_count": 2,
   "metadata": {},
   "outputs": [
    {
     "name": "stdout",
     "output_type": "stream",
     "text": [
      " * sqlite:///chinook.db\n",
      "Done.\n"
     ]
    },
    {
     "data": {
      "text/html": [
       "<table>\n",
       "    <thead>\n",
       "        <tr>\n",
       "            <th>name</th>\n",
       "            <th>type</th>\n",
       "        </tr>\n",
       "    </thead>\n",
       "    <tbody>\n",
       "        <tr>\n",
       "            <td>album</td>\n",
       "            <td>table</td>\n",
       "        </tr>\n",
       "        <tr>\n",
       "            <td>artist</td>\n",
       "            <td>table</td>\n",
       "        </tr>\n",
       "        <tr>\n",
       "            <td>customer</td>\n",
       "            <td>table</td>\n",
       "        </tr>\n",
       "        <tr>\n",
       "            <td>employee</td>\n",
       "            <td>table</td>\n",
       "        </tr>\n",
       "        <tr>\n",
       "            <td>genre</td>\n",
       "            <td>table</td>\n",
       "        </tr>\n",
       "        <tr>\n",
       "            <td>invoice</td>\n",
       "            <td>table</td>\n",
       "        </tr>\n",
       "        <tr>\n",
       "            <td>invoice_line</td>\n",
       "            <td>table</td>\n",
       "        </tr>\n",
       "        <tr>\n",
       "            <td>media_type</td>\n",
       "            <td>table</td>\n",
       "        </tr>\n",
       "        <tr>\n",
       "            <td>playlist</td>\n",
       "            <td>table</td>\n",
       "        </tr>\n",
       "        <tr>\n",
       "            <td>playlist_track</td>\n",
       "            <td>table</td>\n",
       "        </tr>\n",
       "        <tr>\n",
       "            <td>track</td>\n",
       "            <td>table</td>\n",
       "        </tr>\n",
       "    </tbody>\n",
       "</table>"
      ],
      "text/plain": [
       "[('album', 'table'),\n",
       " ('artist', 'table'),\n",
       " ('customer', 'table'),\n",
       " ('employee', 'table'),\n",
       " ('genre', 'table'),\n",
       " ('invoice', 'table'),\n",
       " ('invoice_line', 'table'),\n",
       " ('media_type', 'table'),\n",
       " ('playlist', 'table'),\n",
       " ('playlist_track', 'table'),\n",
       " ('track', 'table')]"
      ]
     },
     "execution_count": 2,
     "metadata": {},
     "output_type": "execute_result"
    }
   ],
   "source": [
    "%%sql\n",
    "SELECT name,type\n",
    "FROM sqlite_master\n",
    "WHERE type IN ('table','view');\n"
   ]
  },
  {
   "attachments": {},
   "cell_type": "markdown",
   "metadata": {},
   "source": [
    "## Selecting Albums to Purchase\n",
    "\n",
    "The Chinook record store has just signed a deal with a new record label, and we've been tasked with selecting the first three albums that will be added to the store, from a list of four. All four albums are by artists that don't have any tracks in the store right now - we have the artist names, and the genre of music they produce:\n",
    "\n",
    "|Artist Name|Genre|\n",
    "|:---|:---|\n",
    "|Regal\t|Hip-Hop|\n",
    "|Red Tone|\tPunk|\n",
    "|Meteor and the Girls|Pop|\n",
    "|Slim Jim Bites|Blues|\n",
    "\n",
    "The record label specializes in artists from the USA, and they have given Chinook some money to advertise the new albums in the USA, so we're interested in finding out which genres sell the best in the USA.\n",
    "\n",
    "We'll need to write a query to find out which genres sell the most tracks in the USA, write up a summary of our findings, and make a recommendation for the three artists whose albums we should purchase for the store."
   ]
  },
  {
   "cell_type": "code",
   "execution_count": 3,
   "metadata": {},
   "outputs": [
    {
     "name": "stdout",
     "output_type": "stream",
     "text": [
      " * sqlite:///chinook.db\n",
      "Done.\n"
     ]
    },
    {
     "data": {
      "text/html": [
       "<table>\n",
       "    <thead>\n",
       "        <tr>\n",
       "            <th>name</th>\n",
       "            <th>quantity</th>\n",
       "            <th>percentage</th>\n",
       "        </tr>\n",
       "    </thead>\n",
       "    <tbody>\n",
       "        <tr>\n",
       "            <td>Rock</td>\n",
       "            <td>561</td>\n",
       "            <td>0.5337773549000951</td>\n",
       "        </tr>\n",
       "        <tr>\n",
       "            <td>Alternative &amp; Punk</td>\n",
       "            <td>130</td>\n",
       "            <td>0.12369172216936251</td>\n",
       "        </tr>\n",
       "        <tr>\n",
       "            <td>Metal</td>\n",
       "            <td>124</td>\n",
       "            <td>0.11798287345385347</td>\n",
       "        </tr>\n",
       "        <tr>\n",
       "            <td>R&amp;B/Soul</td>\n",
       "            <td>53</td>\n",
       "            <td>0.05042816365366318</td>\n",
       "        </tr>\n",
       "        <tr>\n",
       "            <td>Blues</td>\n",
       "            <td>36</td>\n",
       "            <td>0.03425309229305423</td>\n",
       "        </tr>\n",
       "    </tbody>\n",
       "</table>"
      ],
      "text/plain": [
       "[('Rock', 561, 0.5337773549000951),\n",
       " ('Alternative & Punk', 130, 0.12369172216936251),\n",
       " ('Metal', 124, 0.11798287345385347),\n",
       " ('R&B/Soul', 53, 0.05042816365366318),\n",
       " ('Blues', 36, 0.03425309229305423)]"
      ]
     },
     "execution_count": 3,
     "metadata": {},
     "output_type": "execute_result"
    }
   ],
   "source": [
    "%%sql\n",
    "WITH sales AS\n",
    "    (SELECT il.quantity, g.name, c.country\n",
    "      FROM invoice_line il\n",
    "      LEFT JOIN track t ON il.track_id = t.track_id\n",
    "      LEFT JOIN genre g ON t.genre_id = g.genre_id \n",
    "      LEFT JOIN invoice i ON i.invoice_id = il.invoice_id\n",
    "      LEFT JOIN customer c ON c.customer_id = i.customer_id\n",
    "      WHERE country ='USA')\n",
    "SELECT name, \n",
    "       SUM(quantity) quantity, \n",
    "       CAST(SUM(quantity) AS float)/(SELECT SUM(quantity) FROM sales) percentage\n",
    "FROM sales\n",
    "GROUP BY name\n",
    "ORDER BY quantity DESC\n",
    "LIMIT 5;"
   ]
  },
  {
   "attachments": {},
   "cell_type": "markdown",
   "metadata": {},
   "source": [
    "Based on the sales of tracks across different genres in the USA, we should purchase the new albums by the following artists:\n",
    "\n",
    "* Red Tone (Punk)\n",
    "* Slim Jim Bites (Blues)\n",
    "* Meteor and the Girls (Pop)\n",
    "\n",
    "It's worth keeping in mind that combined, these three genres only make up only 17% of total sales, so we should be on the lookout for artists and albums from the rock genre, which accounts for 53% of sales.\n",
    "\n",
    "## Analyzing Employee Sales Performance\n",
    "\n",
    "Each customer for the Chinook store gets assigned to a sales support agent within the company when they first make a purchase. We have been asked to analyze the purchases of customers belonging to each employee to see if any sales support agent is performing either better or worse than the others.\n",
    "\n",
    "We might consider whether any extra columns from the employee table explain any variance, or whether the variance might instead be indicative of employee performance."
   ]
  },
  {
   "cell_type": "code",
   "execution_count": 4,
   "metadata": {},
   "outputs": [
    {
     "name": "stdout",
     "output_type": "stream",
     "text": [
      " * sqlite:///chinook.db\n",
      "Done.\n"
     ]
    },
    {
     "data": {
      "text/html": [
       "<table>\n",
       "    <thead>\n",
       "        <tr>\n",
       "            <th>employee_id</th>\n",
       "            <th>first_name</th>\n",
       "            <th>last_name</th>\n",
       "            <th>hire_date</th>\n",
       "            <th>total</th>\n",
       "        </tr>\n",
       "    </thead>\n",
       "    <tbody>\n",
       "        <tr>\n",
       "            <td>3</td>\n",
       "            <td>Michelle</td>\n",
       "            <td>Brooks</td>\n",
       "            <td>2017-04-01 00:00:00</td>\n",
       "            <td>1731.5100000000039</td>\n",
       "        </tr>\n",
       "        <tr>\n",
       "            <td>4</td>\n",
       "            <td>Dominique</td>\n",
       "            <td>Lefebvre</td>\n",
       "            <td>2017-05-03 00:00:00</td>\n",
       "            <td>1584.0000000000034</td>\n",
       "        </tr>\n",
       "        <tr>\n",
       "            <td>5</td>\n",
       "            <td>Martha</td>\n",
       "            <td>Silk</td>\n",
       "            <td>2017-10-17 00:00:00</td>\n",
       "            <td>1393.920000000002</td>\n",
       "        </tr>\n",
       "    </tbody>\n",
       "</table>"
      ],
      "text/plain": [
       "[(3, 'Michelle', 'Brooks', '2017-04-01 00:00:00', 1731.5100000000039),\n",
       " (4, 'Dominique', 'Lefebvre', '2017-05-03 00:00:00', 1584.0000000000034),\n",
       " (5, 'Martha', 'Silk', '2017-10-17 00:00:00', 1393.920000000002)]"
      ]
     },
     "execution_count": 4,
     "metadata": {},
     "output_type": "execute_result"
    }
   ],
   "source": [
    "%%sql\n",
    "SELECT employee_id, first_name, last_name, hire_date, SUM(total) total\n",
    "FROM (SELECT *\n",
    "      FROM invoice i\n",
    "      LEFT JOIN customer c ON i.customer_id=c.customer_id\n",
    "      LEFT JOIN employee e ON c.support_rep_id=e.employee_id\n",
    "      )\n",
    "GROUP BY employee_id\n",
    "ORDER BY total DESC;"
   ]
  },
  {
   "attachments": {},
   "cell_type": "markdown",
   "metadata": {},
   "source": [
    "While there is a 20% difference in sales between Jane (the top employee) and Steve (the bottom employee), the difference roughly corresponds to the differences in their hiring dates.\n",
    "\n",
    "## Analyzing Sales by Country\n",
    "\n",
    "Our next task is to analyze the sales data for customers from each different country. We have used the country value from the customers table, and ignored the country from the billing address in the invoice table.\n",
    "\n",
    "In particular, we have been directed to calculate data, for each country, on the:\n",
    "\n",
    "* total number of customers\n",
    "* total value of sales\n",
    "* average value of sales per customer\n",
    "* average order value\n",
    "\n",
    "Because there are a number of countries with only one customer, you should group these customers as \"Other\" in your analysis."
   ]
  },
  {
   "cell_type": "code",
   "execution_count": 5,
   "metadata": {},
   "outputs": [
    {
     "name": "stdout",
     "output_type": "stream",
     "text": [
      " * sqlite:///chinook.db\n",
      "Done.\n"
     ]
    },
    {
     "data": {
      "text/html": [
       "<table>\n",
       "    <thead>\n",
       "        <tr>\n",
       "            <th>country</th>\n",
       "            <th>total_customer</th>\n",
       "            <th>total_value</th>\n",
       "            <th>avg_value_customer</th>\n",
       "            <th>avg_value_invoice</th>\n",
       "            <th>sort</th>\n",
       "        </tr>\n",
       "    </thead>\n",
       "    <tbody>\n",
       "        <tr>\n",
       "            <td>USA</td>\n",
       "            <td>13</td>\n",
       "            <td>1040.4899999999998</td>\n",
       "            <td>80.0376923076923</td>\n",
       "            <td>7.942671755725189</td>\n",
       "            <td>0</td>\n",
       "        </tr>\n",
       "        <tr>\n",
       "            <td>Canada</td>\n",
       "            <td>8</td>\n",
       "            <td>535.5900000000001</td>\n",
       "            <td>66.94875000000002</td>\n",
       "            <td>7.047236842105265</td>\n",
       "            <td>0</td>\n",
       "        </tr>\n",
       "        <tr>\n",
       "            <td>Brazil</td>\n",
       "            <td>5</td>\n",
       "            <td>427.68000000000006</td>\n",
       "            <td>85.53600000000002</td>\n",
       "            <td>7.0111475409836075</td>\n",
       "            <td>0</td>\n",
       "        </tr>\n",
       "        <tr>\n",
       "            <td>France</td>\n",
       "            <td>5</td>\n",
       "            <td>389.0699999999999</td>\n",
       "            <td>77.81399999999998</td>\n",
       "            <td>7.781399999999998</td>\n",
       "            <td>0</td>\n",
       "        </tr>\n",
       "        <tr>\n",
       "            <td>Germany</td>\n",
       "            <td>4</td>\n",
       "            <td>334.62</td>\n",
       "            <td>83.655</td>\n",
       "            <td>8.161463414634147</td>\n",
       "            <td>0</td>\n",
       "        </tr>\n",
       "        <tr>\n",
       "            <td>Czech Republic</td>\n",
       "            <td>2</td>\n",
       "            <td>273.24000000000007</td>\n",
       "            <td>136.62000000000003</td>\n",
       "            <td>9.108000000000002</td>\n",
       "            <td>0</td>\n",
       "        </tr>\n",
       "        <tr>\n",
       "            <td>United Kingdom</td>\n",
       "            <td>3</td>\n",
       "            <td>245.52</td>\n",
       "            <td>81.84</td>\n",
       "            <td>8.768571428571429</td>\n",
       "            <td>0</td>\n",
       "        </tr>\n",
       "        <tr>\n",
       "            <td>Portugal</td>\n",
       "            <td>2</td>\n",
       "            <td>185.13000000000002</td>\n",
       "            <td>92.56500000000001</td>\n",
       "            <td>6.383793103448276</td>\n",
       "            <td>0</td>\n",
       "        </tr>\n",
       "        <tr>\n",
       "            <td>India</td>\n",
       "            <td>2</td>\n",
       "            <td>183.14999999999998</td>\n",
       "            <td>91.57499999999999</td>\n",
       "            <td>8.72142857142857</td>\n",
       "            <td>0</td>\n",
       "        </tr>\n",
       "        <tr>\n",
       "            <td>Other</td>\n",
       "            <td>15</td>\n",
       "            <td>1094.9400000000003</td>\n",
       "            <td>72.99600000000002</td>\n",
       "            <td>7.44857142857143</td>\n",
       "            <td>1</td>\n",
       "        </tr>\n",
       "    </tbody>\n",
       "</table>"
      ],
      "text/plain": [
       "[('USA', 13, 1040.4899999999998, 80.0376923076923, 7.942671755725189, 0),\n",
       " ('Canada', 8, 535.5900000000001, 66.94875000000002, 7.047236842105265, 0),\n",
       " ('Brazil', 5, 427.68000000000006, 85.53600000000002, 7.0111475409836075, 0),\n",
       " ('France', 5, 389.0699999999999, 77.81399999999998, 7.781399999999998, 0),\n",
       " ('Germany', 4, 334.62, 83.655, 8.161463414634147, 0),\n",
       " ('Czech Republic', 2, 273.24000000000007, 136.62000000000003, 9.108000000000002, 0),\n",
       " ('United Kingdom', 3, 245.52, 81.84, 8.768571428571429, 0),\n",
       " ('Portugal', 2, 185.13000000000002, 92.56500000000001, 6.383793103448276, 0),\n",
       " ('India', 2, 183.14999999999998, 91.57499999999999, 8.72142857142857, 0),\n",
       " ('Other', 15, 1094.9400000000003, 72.99600000000002, 7.44857142857143, 1)]"
      ]
     },
     "execution_count": 5,
     "metadata": {},
     "output_type": "execute_result"
    }
   ],
   "source": [
    "%%sql\n",
    "WITH country_other AS\n",
    "    (SELECT CASE\n",
    "              WHEN (\n",
    "                SELECT COUNT(*)\n",
    "                FROM customer\n",
    "                WHERE country=c.country\n",
    "                ) = 1 THEN 'Other'\n",
    "              ELSE c.country\n",
    "            END AS country,\n",
    "            c.customer_id,\n",
    "            i.total,\n",
    "            i.invoice_id\n",
    "    FROM customer c\n",
    "    INNER JOIN invoice i ON c.customer_id=i.customer_id\n",
    "    )\n",
    "SELECT\n",
    "    country,\n",
    "    COUNT(DISTINCT customer_id) total_customer,\n",
    "    SUM(total) total_value,\n",
    "    SUM(total)/COUNT(DISTINCT customer_id) avg_value_customer,\n",
    "    SUM(total)/COUNT(DISTINCT invoice_id) avg_value_invoice,\n",
    "    CASE\n",
    "        WHEN country = 'Other' THEN 1\n",
    "        ELSE 0\n",
    "    END AS sort\n",
    "FROM country_other\n",
    "GROUP BY country\n",
    "ORDER BY sort ASC, total_value DESC      \n",
    "\n"
   ]
  },
  {
   "attachments": {},
   "cell_type": "markdown",
   "metadata": {},
   "source": [
    "Based on the data, there may be opportunity in the following countries:\n",
    "\n",
    "* USA contributes the most sales from the highest number of the customers, it is always the biggest market to prioritize the resources in order to increase the sales.\n",
    "* Canada stands the second place for the sales with the second most of the customers. However the average customer purchasing value is the lowest. It is a good potential improve the sales by encourage individual customer to buy more.\n",
    "* Czech Republic gets the highest average customer purchase. This a great potential market to explore, because they love our products. We need to focus on get more people to know our business.\n",
    "\n",
    "It's worth remembering because the amount of data from each of these countries is relatively low. As such, we should be cautious about spending too much money on new marketing campaigns because the sample size isn't large enough to give us high confidence. A better approach would be to run small campaigns in these countries, collecting and analyzing the new customers to make sure that these trends hold with new customers.\n",
    "\n",
    "# Albums vs. Individual Tracks\n",
    "\n",
    "The Chinook store is setup in a way that allows customer to make purchases in one of the two ways:\n",
    "\n",
    "* purchase a whole album\n",
    "* purchase a collection of one or more individual tracks.\n",
    "\n",
    "The store does not let customers purchase a whole album, and then add individual tracks to that same purchase (unless they do that by choosing each track manually). When customers purchase albums they are charged the same price as if they had purchased each of those tracks separately.\n",
    "\n",
    "Management are currently considering changing their purchasing strategy to save money. The strategy they are considering is to purchase only the most popular tracks from each album from record companies, instead of purchasing every track from an album.\n",
    "\n",
    "We have been asked to find out what percentage of purchases are individual tracks vs whole albums, so that management can use this data to understand the effect this decision might have on overall revenue."
   ]
  },
  {
   "cell_type": "code",
   "execution_count": null,
   "metadata": {},
   "outputs": [
    {
     "name": "stdout",
     "output_type": "stream",
     "text": [
      " * sqlite:///chinook.db\n",
      "Done.\n"
     ]
    },
    {
     "data": {
      "text/html": [
       "<table>\n",
       "    <thead>\n",
       "        <tr>\n",
       "            <th>if_track</th>\n",
       "            <th>number_of_invoice</th>\n",
       "            <th>percentage</th>\n",
       "        </tr>\n",
       "    </thead>\n",
       "    <tbody>\n",
       "        <tr>\n",
       "            <td>No</td>\n",
       "            <td>114</td>\n",
       "            <td>0.18566775244299674</td>\n",
       "        </tr>\n",
       "        <tr>\n",
       "            <td>YES</td>\n",
       "            <td>500</td>\n",
       "            <td>0.8143322475570033</td>\n",
       "        </tr>\n",
       "    </tbody>\n",
       "</table>"
      ],
      "text/plain": [
       "[('No', 114, 0.18566775244299674), ('YES', 500, 0.8143322475570033)]"
      ]
     },
     "execution_count": 6,
     "metadata": {},
     "output_type": "execute_result"
    }
   ],
   "source": [
    "%%sql\n",
    "WITH buytrack AS (\n",
    "    SELECT il.invoice_id invoice_id,\n",
    "          CASE\n",
    "            WHEN (\n",
    "              SELECT track_id \n",
    "              FROM invoice_line\n",
    "              WHERE invoice_id = il.invoice_id\n",
    "              EXCEPT\n",
    "              SELECT track_id\n",
    "              FROM  track \n",
    "              WHERE album_id = t.album_id\n",
    "            ) IS NULL\n",
    "            AND (\n",
    "              SELECT track_id\n",
    "              FROM  track \n",
    "              WHERE album_id = t.album_id\n",
    "              EXCEPT\n",
    "              SELECT track_id \n",
    "              FROM invoice_line\n",
    "              WHERE invoice_id = il.invoice_id\n",
    "            ) IS NULL\n",
    "              THEN \"No\"\n",
    "            ELSE \"YES\"\n",
    "            END AS if_track\n",
    "    FROM invoice_line il\n",
    "    LEFT JOIN track t ON il.track_id = t.track_id\n",
    "              \n",
    "    )\n",
    "  SELECT  if_track,\n",
    "          COUNT(DISTINCT invoice_id) number_of_invoice,\n",
    "          COUNT(DISTINCT invoice_id)\n",
    "          /CAST(\n",
    "            (SELECT COUNT(invoice_id) FROM invoice) \n",
    "            AS FLOAT\n",
    "            ) percentage\n",
    "  FROM buytrack\n",
    "  GROUP BY if_track"
   ]
  },
  {
   "attachments": {},
   "cell_type": "markdown",
   "metadata": {},
   "source": [
    "There are more than 80% of the purchase is by track from the sales report. It is good idea to change the strategy to purchase only the most popular tracks from each album from record companies, instead of purchasing every track from an album."
   ]
  }
 ],
 "metadata": {
  "kernelspec": {
   "display_name": "Python 3",
   "language": "python",
   "name": "python3"
  },
  "language_info": {
   "codemirror_mode": {
    "name": "ipython",
    "version": 3
   },
   "file_extension": ".py",
   "mimetype": "text/x-python",
   "name": "python",
   "nbconvert_exporter": "python",
   "pygments_lexer": "ipython3",
   "version": "3.11.1"
  },
  "orig_nbformat": 4,
  "vscode": {
   "interpreter": {
    "hash": "e2c7a2e10f2d8950b8b4339e7fdea8fb53c32e037952492e3ea8e4f4f25d1605"
   }
  }
 },
 "nbformat": 4,
 "nbformat_minor": 2
}
